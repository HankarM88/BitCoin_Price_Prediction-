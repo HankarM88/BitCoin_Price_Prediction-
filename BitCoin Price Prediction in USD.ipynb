{
 "cells": [
  {
   "cell_type": "code",
   "execution_count": 29,
   "metadata": {},
   "outputs": [
    {
     "name": "stderr",
     "output_type": "stream",
     "text": [
      "Using TensorFlow backend.\n"
     ]
    }
   ],
   "source": [
    "import pandas as pd \n",
    "import numpy as np \n",
    "import tensorflow as tf \n",
    "from keras.models import Sequential\n",
    "from keras.layers import Dense\n",
    "from keras.layers import LSTM\n",
    "from keras.layers import Dropout\n",
    "import matplotlib.pyplot as plt \n",
    "%matplotlib inline"
   ]
  },
  {
   "cell_type": "code",
   "execution_count": 2,
   "metadata": {},
   "outputs": [
    {
     "data": {
      "text/html": [
       "<div>\n",
       "<style scoped>\n",
       "    .dataframe tbody tr th:only-of-type {\n",
       "        vertical-align: middle;\n",
       "    }\n",
       "\n",
       "    .dataframe tbody tr th {\n",
       "        vertical-align: top;\n",
       "    }\n",
       "\n",
       "    .dataframe thead th {\n",
       "        text-align: right;\n",
       "    }\n",
       "</style>\n",
       "<table border=\"1\" class=\"dataframe\">\n",
       "  <thead>\n",
       "    <tr style=\"text-align: right;\">\n",
       "      <th></th>\n",
       "      <th>Date</th>\n",
       "      <th>Open</th>\n",
       "      <th>High</th>\n",
       "      <th>Low</th>\n",
       "      <th>Close</th>\n",
       "      <th>Adj Close</th>\n",
       "      <th>Volume</th>\n",
       "    </tr>\n",
       "  </thead>\n",
       "  <tbody>\n",
       "    <tr>\n",
       "      <th>0</th>\n",
       "      <td>2019-07-06</td>\n",
       "      <td>10982.543945</td>\n",
       "      <td>11620.964844</td>\n",
       "      <td>10982.543945</td>\n",
       "      <td>11208.550781</td>\n",
       "      <td>11208.550781</td>\n",
       "      <td>21092024306</td>\n",
       "    </tr>\n",
       "    <tr>\n",
       "      <th>1</th>\n",
       "      <td>2019-07-07</td>\n",
       "      <td>11217.616211</td>\n",
       "      <td>11541.620117</td>\n",
       "      <td>11148.804688</td>\n",
       "      <td>11450.846680</td>\n",
       "      <td>11450.846680</td>\n",
       "      <td>19369044276</td>\n",
       "    </tr>\n",
       "    <tr>\n",
       "      <th>2</th>\n",
       "      <td>2019-07-08</td>\n",
       "      <td>11446.596680</td>\n",
       "      <td>12345.833008</td>\n",
       "      <td>11393.374023</td>\n",
       "      <td>12285.958008</td>\n",
       "      <td>12285.958008</td>\n",
       "      <td>23482551458</td>\n",
       "    </tr>\n",
       "    <tr>\n",
       "      <th>3</th>\n",
       "      <td>2019-07-09</td>\n",
       "      <td>12284.326172</td>\n",
       "      <td>12779.131836</td>\n",
       "      <td>12233.261719</td>\n",
       "      <td>12573.812500</td>\n",
       "      <td>12573.812500</td>\n",
       "      <td>28167921522</td>\n",
       "    </tr>\n",
       "    <tr>\n",
       "      <th>4</th>\n",
       "      <td>2019-07-10</td>\n",
       "      <td>12571.537109</td>\n",
       "      <td>13129.529297</td>\n",
       "      <td>11710.978516</td>\n",
       "      <td>12156.512695</td>\n",
       "      <td>12156.512695</td>\n",
       "      <td>33627574244</td>\n",
       "    </tr>\n",
       "  </tbody>\n",
       "</table>\n",
       "</div>"
      ],
      "text/plain": [
       "         Date          Open          High           Low         Close  \\\n",
       "0  2019-07-06  10982.543945  11620.964844  10982.543945  11208.550781   \n",
       "1  2019-07-07  11217.616211  11541.620117  11148.804688  11450.846680   \n",
       "2  2019-07-08  11446.596680  12345.833008  11393.374023  12285.958008   \n",
       "3  2019-07-09  12284.326172  12779.131836  12233.261719  12573.812500   \n",
       "4  2019-07-10  12571.537109  13129.529297  11710.978516  12156.512695   \n",
       "\n",
       "      Adj Close       Volume  \n",
       "0  11208.550781  21092024306  \n",
       "1  11450.846680  19369044276  \n",
       "2  12285.958008  23482551458  \n",
       "3  12573.812500  28167921522  \n",
       "4  12156.512695  33627574244  "
      ]
     },
     "execution_count": 2,
     "metadata": {},
     "output_type": "execute_result"
    }
   ],
   "source": [
    "  ## get Data \n",
    "btc_data=pd.read_csv('BTC-USD.csv')\n",
    "btc_data.head()"
   ]
  },
  {
   "cell_type": "code",
   "execution_count": 8,
   "metadata": {},
   "outputs": [
    {
     "data": {
      "text/html": [
       "<div>\n",
       "<style scoped>\n",
       "    .dataframe tbody tr th:only-of-type {\n",
       "        vertical-align: middle;\n",
       "    }\n",
       "\n",
       "    .dataframe tbody tr th {\n",
       "        vertical-align: top;\n",
       "    }\n",
       "\n",
       "    .dataframe thead th {\n",
       "        text-align: right;\n",
       "    }\n",
       "</style>\n",
       "<table border=\"1\" class=\"dataframe\">\n",
       "  <thead>\n",
       "    <tr style=\"text-align: right;\">\n",
       "      <th></th>\n",
       "      <th>Close</th>\n",
       "    </tr>\n",
       "    <tr>\n",
       "      <th>Date</th>\n",
       "      <th></th>\n",
       "    </tr>\n",
       "  </thead>\n",
       "  <tbody>\n",
       "    <tr>\n",
       "      <th>2019-07-06</th>\n",
       "      <td>11208.550781</td>\n",
       "    </tr>\n",
       "    <tr>\n",
       "      <th>2019-07-07</th>\n",
       "      <td>11450.846680</td>\n",
       "    </tr>\n",
       "    <tr>\n",
       "      <th>2019-07-08</th>\n",
       "      <td>12285.958008</td>\n",
       "    </tr>\n",
       "    <tr>\n",
       "      <th>2019-07-09</th>\n",
       "      <td>12573.812500</td>\n",
       "    </tr>\n",
       "    <tr>\n",
       "      <th>2019-07-10</th>\n",
       "      <td>12156.512695</td>\n",
       "    </tr>\n",
       "  </tbody>\n",
       "</table>\n",
       "</div>"
      ],
      "text/plain": [
       "                   Close\n",
       "Date                    \n",
       "2019-07-06  11208.550781\n",
       "2019-07-07  11450.846680\n",
       "2019-07-08  12285.958008\n",
       "2019-07-09  12573.812500\n",
       "2019-07-10  12156.512695"
      ]
     },
     "execution_count": 8,
     "metadata": {},
     "output_type": "execute_result"
    }
   ],
   "source": [
    "#filter only for Date and Open Prices to our dataframe\n",
    "df=btc_data[['Date','Close']]\n",
    "# set Month column as an index \n",
    "df.set_index('Date',inplace=True)\n",
    "# convert index to datetime \n",
    "df.index=pd.to_datetime(df.index)\n",
    "#show the df \n",
    "df.head()"
   ]
  },
  {
   "cell_type": "code",
   "execution_count": 9,
   "metadata": {},
   "outputs": [
    {
     "name": "stdout",
     "output_type": "stream",
     "text": [
      "<class 'pandas.core.frame.DataFrame'>\n",
      "DatetimeIndex: 367 entries, 2019-07-06 to 2020-07-06\n",
      "Data columns (total 1 columns):\n",
      " #   Column  Non-Null Count  Dtype  \n",
      "---  ------  --------------  -----  \n",
      " 0   Close   367 non-null    float64\n",
      "dtypes: float64(1)\n",
      "memory usage: 5.7 KB\n"
     ]
    }
   ],
   "source": [
    "df.info()"
   ]
  },
  {
   "cell_type": "code",
   "execution_count": 10,
   "metadata": {},
   "outputs": [
    {
     "data": {
      "text/html": [
       "<div>\n",
       "<style scoped>\n",
       "    .dataframe tbody tr th:only-of-type {\n",
       "        vertical-align: middle;\n",
       "    }\n",
       "\n",
       "    .dataframe tbody tr th {\n",
       "        vertical-align: top;\n",
       "    }\n",
       "\n",
       "    .dataframe thead th {\n",
       "        text-align: right;\n",
       "    }\n",
       "</style>\n",
       "<table border=\"1\" class=\"dataframe\">\n",
       "  <thead>\n",
       "    <tr style=\"text-align: right;\">\n",
       "      <th></th>\n",
       "      <th>count</th>\n",
       "      <th>mean</th>\n",
       "      <th>std</th>\n",
       "      <th>min</th>\n",
       "      <th>25%</th>\n",
       "      <th>50%</th>\n",
       "      <th>75%</th>\n",
       "      <th>max</th>\n",
       "    </tr>\n",
       "  </thead>\n",
       "  <tbody>\n",
       "    <tr>\n",
       "      <th>Close</th>\n",
       "      <td>367.0</td>\n",
       "      <td>8809.797931</td>\n",
       "      <td>1396.97143</td>\n",
       "      <td>4970.788086</td>\n",
       "      <td>7661.308594</td>\n",
       "      <td>8942.808594</td>\n",
       "      <td>9729.562988</td>\n",
       "      <td>12573.8125</td>\n",
       "    </tr>\n",
       "  </tbody>\n",
       "</table>\n",
       "</div>"
      ],
      "text/plain": [
       "       count         mean         std          min          25%          50%  \\\n",
       "Close  367.0  8809.797931  1396.97143  4970.788086  7661.308594  8942.808594   \n",
       "\n",
       "               75%         max  \n",
       "Close  9729.562988  12573.8125  "
      ]
     },
     "execution_count": 10,
     "metadata": {},
     "output_type": "execute_result"
    }
   ],
   "source": [
    "df.describe().transpose()"
   ]
  },
  {
   "cell_type": "code",
   "execution_count": 12,
   "metadata": {},
   "outputs": [
    {
     "data": {
      "text/html": [
       "<div>\n",
       "<style scoped>\n",
       "    .dataframe tbody tr th:only-of-type {\n",
       "        vertical-align: middle;\n",
       "    }\n",
       "\n",
       "    .dataframe tbody tr th {\n",
       "        vertical-align: top;\n",
       "    }\n",
       "\n",
       "    .dataframe thead th {\n",
       "        text-align: right;\n",
       "    }\n",
       "</style>\n",
       "<table border=\"1\" class=\"dataframe\">\n",
       "  <thead>\n",
       "    <tr style=\"text-align: right;\">\n",
       "      <th></th>\n",
       "      <th>Close</th>\n",
       "    </tr>\n",
       "    <tr>\n",
       "      <th>Date</th>\n",
       "      <th></th>\n",
       "    </tr>\n",
       "  </thead>\n",
       "  <tbody>\n",
       "    <tr>\n",
       "      <th>2020-07-02</th>\n",
       "      <td>9123.410156</td>\n",
       "    </tr>\n",
       "    <tr>\n",
       "      <th>2020-07-03</th>\n",
       "      <td>9087.303711</td>\n",
       "    </tr>\n",
       "    <tr>\n",
       "      <th>2020-07-04</th>\n",
       "      <td>9132.488281</td>\n",
       "    </tr>\n",
       "    <tr>\n",
       "      <th>2020-07-05</th>\n",
       "      <td>9073.942383</td>\n",
       "    </tr>\n",
       "    <tr>\n",
       "      <th>2020-07-06</th>\n",
       "      <td>9268.145508</td>\n",
       "    </tr>\n",
       "  </tbody>\n",
       "</table>\n",
       "</div>"
      ],
      "text/plain": [
       "                  Close\n",
       "Date                   \n",
       "2020-07-02  9123.410156\n",
       "2020-07-03  9087.303711\n",
       "2020-07-04  9132.488281\n",
       "2020-07-05  9073.942383\n",
       "2020-07-06  9268.145508"
      ]
     },
     "execution_count": 12,
     "metadata": {},
     "output_type": "execute_result"
    }
   ],
   "source": [
    "# sort the datetime index \n",
    "df=df.sort_index()\n",
    "df.tail()"
   ]
  },
  {
   "cell_type": "code",
   "execution_count": 15,
   "metadata": {},
   "outputs": [
    {
     "data": {
      "image/png": "[encoded data removed]",
      "text/plain": [
       "<Figure size 864x576 with 1 Axes>"
      ]
     },
     "metadata": {
      "needs_background": "light"
     },
     "output_type": "display_data"
    }
   ],
   "source": [
    "# plot the open price over time \n",
    "fig, ax = plt.subplots( nrows=1, ncols=1 ,figsize=(12,8))  # create figure & 1 axis\n",
    "ax.plot(df.values, color='blue', label='BitCoin Prices in USD ')\n",
    "plt.title('Daily BitCoin Price(USD)')\n",
    "plt.xlabel('Date')\n",
    "plt.ylabel('BTC Price')\n",
    "plt.legend()\n",
    "plt.show()\n",
    "fig.savefig('BTC_Price.png')\n",
    "plt.close(fig)"
   ]
  },
  {
   "cell_type": "code",
   "execution_count": 16,
   "metadata": {},
   "outputs": [
    {
     "data": {
      "text/plain": [
       "(367, 1)"
      ]
     },
     "execution_count": 16,
     "metadata": {},
     "output_type": "execute_result"
    }
   ],
   "source": [
    "df.shape"
   ]
  },
  {
   "cell_type": "code",
   "execution_count": 17,
   "metadata": {},
   "outputs": [
    {
     "data": {
      "text/plain": [
       "((307, 1), (60, 1))"
      ]
     },
     "execution_count": 17,
     "metadata": {},
     "output_type": "execute_result"
    }
   ],
   "source": [
    "# split data into train and test set \n",
    "train=df.head(307)\n",
    "test=df.tail(60)\n",
    "train.shape,test.shape"
   ]
  },
  {
   "cell_type": "code",
   "execution_count": 18,
   "metadata": {},
   "outputs": [],
   "source": [
    "# Normalizind price values between =(0,1)\n",
    "from sklearn.preprocessing import MinMaxScaler\n",
    "scaler=MinMaxScaler(feature_range=(0, 1))\n",
    "scaler.fit(train)\n",
    "train_scaled=scaler.transform(train)\n",
    "test_scaled=scaler.transform(test)"
   ]
  },
  {
   "cell_type": "code",
   "execution_count": 23,
   "metadata": {},
   "outputs": [],
   "source": [
    "features_set = []\n",
    "labels = []\n",
    "for i in range(60,len(train)):\n",
    "    features_set.append(train_scaled[i-60:i, 0])\n",
    "    labels.append(train_scaled[i, 0])\n",
    "#convert the two lists to arrays for training \n",
    "features_set, labels = np.array(features_set), np.array(labels)"
   ]
  },
  {
   "cell_type": "code",
   "execution_count": 24,
   "metadata": {},
   "outputs": [],
   "source": [
    "#reshape features set for training in the neural network  \n",
    "features_set = np.reshape(features_set, (features_set.shape[0], features_set.shape[1], 1))"
   ]
  },
  {
   "cell_type": "code",
   "execution_count": 28,
   "metadata": {},
   "outputs": [
    {
     "data": {
      "text/plain": [
       "(247, 60, 1)"
      ]
     },
     "execution_count": 28,
     "metadata": {},
     "output_type": "execute_result"
    }
   ],
   "source": [
    "features_set.shape"
   ]
  },
  {
   "cell_type": "code",
   "execution_count": 30,
   "metadata": {},
   "outputs": [],
   "source": [
    "#build our Model \n",
    "model = Sequential()\n",
    "# first LSTM \n",
    "model.add(LSTM(units=64, return_sequences=True, input_shape=(features_set.shape[1], 1)))\n",
    "model.add(Dropout(0.4))\n",
    "#second LSTM\n",
    "model.add(LSTM(units=64, return_sequences=True))\n",
    "model.add(Dropout(0.4))\n",
    "#third LSTM\n",
    "model.add(LSTM(units=32))\n",
    "model.add(Dropout(0.4))\n",
    "#Dense layer/output is only one \n",
    "model.add(Dense(units = 1))\n",
    "#compile \n",
    "model.compile(optimizer = 'adam', loss = 'mean_squared_error')\n"
   ]
  },
  {
   "cell_type": "code",
   "execution_count": 31,
   "metadata": {},
   "outputs": [
    {
     "name": "stdout",
     "output_type": "stream",
     "text": [
      "Epoch 1/100\n",
      " - 4s - loss: 0.0933\n",
      "Epoch 2/100\n",
      " - 1s - loss: 0.0249\n",
      "Epoch 3/100\n",
      " - 1s - loss: 0.0236\n",
      "Epoch 4/100\n",
      " - 2s - loss: 0.0203\n",
      "Epoch 5/100\n",
      " - 2s - loss: 0.0189\n",
      "Epoch 6/100\n",
      " - 2s - loss: 0.0169\n",
      "Epoch 7/100\n",
      " - 2s - loss: 0.0195\n",
      "Epoch 8/100\n",
      " - 2s - loss: 0.0173\n",
      "Epoch 9/100\n",
      " - 2s - loss: 0.0201\n",
      "Epoch 10/100\n",
      " - 2s - loss: 0.0176\n",
      "Epoch 11/100\n",
      " - 2s - loss: 0.0149\n",
      "Epoch 12/100\n",
      " - 2s - loss: 0.0163\n",
      "Epoch 13/100\n",
      " - 2s - loss: 0.0168\n",
      "Epoch 14/100\n",
      " - 2s - loss: 0.0162\n",
      "Epoch 15/100\n",
      " - 2s - loss: 0.0132\n",
      "Epoch 16/100\n",
      " - 2s - loss: 0.0145\n",
      "Epoch 17/100\n",
      " - 2s - loss: 0.0139\n",
      "Epoch 18/100\n",
      " - 2s - loss: 0.0148\n",
      "Epoch 19/100\n",
      " - 2s - loss: 0.0156\n",
      "Epoch 20/100\n",
      " - 2s - loss: 0.0135\n",
      "Epoch 21/100\n",
      " - 2s - loss: 0.0133\n",
      "Epoch 22/100\n",
      " - 1s - loss: 0.0126\n",
      "Epoch 23/100\n",
      " - 2s - loss: 0.0118\n",
      "Epoch 24/100\n",
      " - 2s - loss: 0.0143\n",
      "Epoch 25/100\n",
      " - 2s - loss: 0.0128\n",
      "Epoch 26/100\n",
      " - 1s - loss: 0.0124\n",
      "Epoch 27/100\n",
      " - 1s - loss: 0.0130\n",
      "Epoch 28/100\n",
      " - 1s - loss: 0.0137\n",
      "Epoch 29/100\n",
      " - 2s - loss: 0.0120\n",
      "Epoch 30/100\n",
      " - 2s - loss: 0.0136\n",
      "Epoch 31/100\n",
      " - 2s - loss: 0.0111\n",
      "Epoch 32/100\n",
      " - 1s - loss: 0.0111\n",
      "Epoch 33/100\n",
      " - 2s - loss: 0.0097\n",
      "Epoch 34/100\n",
      " - 2s - loss: 0.0121\n",
      "Epoch 35/100\n",
      " - 1s - loss: 0.0104\n",
      "Epoch 36/100\n",
      " - 1s - loss: 0.0098\n",
      "Epoch 37/100\n",
      " - 1s - loss: 0.0125\n",
      "Epoch 38/100\n",
      " - 2s - loss: 0.0113\n",
      "Epoch 39/100\n",
      " - 2s - loss: 0.0124\n",
      "Epoch 40/100\n",
      " - 2s - loss: 0.0108\n",
      "Epoch 41/100\n",
      " - 2s - loss: 0.0107\n",
      "Epoch 42/100\n",
      " - 2s - loss: 0.0125\n",
      "Epoch 43/100\n",
      " - 1s - loss: 0.0113\n",
      "Epoch 44/100\n",
      " - 1s - loss: 0.0109\n",
      "Epoch 45/100\n",
      " - 2s - loss: 0.0098\n",
      "Epoch 46/100\n",
      " - 1s - loss: 0.0112\n",
      "Epoch 47/100\n",
      " - 2s - loss: 0.0111\n",
      "Epoch 48/100\n",
      " - 2s - loss: 0.0100\n",
      "Epoch 49/100\n",
      " - 2s - loss: 0.0108\n",
      "Epoch 50/100\n",
      " - 2s - loss: 0.0105\n",
      "Epoch 51/100\n",
      " - 2s - loss: 0.0103\n",
      "Epoch 52/100\n",
      " - 2s - loss: 0.0095\n",
      "Epoch 53/100\n",
      " - 2s - loss: 0.0102\n",
      "Epoch 54/100\n",
      " - 2s - loss: 0.0106\n",
      "Epoch 55/100\n",
      " - 2s - loss: 0.0117\n",
      "Epoch 56/100\n",
      " - 2s - loss: 0.0102\n",
      "Epoch 57/100\n",
      " - 1s - loss: 0.0101\n",
      "Epoch 58/100\n",
      " - 2s - loss: 0.0101\n",
      "Epoch 59/100\n",
      " - 1s - loss: 0.0108\n",
      "Epoch 60/100\n",
      " - 1s - loss: 0.0086\n",
      "Epoch 61/100\n",
      " - 1s - loss: 0.0102\n",
      "Epoch 62/100\n",
      " - 1s - loss: 0.0090\n",
      "Epoch 63/100\n",
      " - 1s - loss: 0.0094\n",
      "Epoch 64/100\n",
      " - 1s - loss: 0.0086\n",
      "Epoch 65/100\n",
      " - 1s - loss: 0.0088\n",
      "Epoch 66/100\n",
      " - 1s - loss: 0.0084\n",
      "Epoch 67/100\n",
      " - 1s - loss: 0.0090\n",
      "Epoch 68/100\n",
      " - 1s - loss: 0.0080\n",
      "Epoch 69/100\n",
      " - 1s - loss: 0.0086\n",
      "Epoch 70/100\n",
      " - 2s - loss: 0.0102\n",
      "Epoch 71/100\n",
      " - 2s - loss: 0.0095\n",
      "Epoch 72/100\n",
      " - 2s - loss: 0.0076\n",
      "Epoch 73/100\n",
      " - 2s - loss: 0.0078\n",
      "Epoch 74/100\n",
      " - 2s - loss: 0.0072\n",
      "Epoch 75/100\n",
      " - 2s - loss: 0.0086\n",
      "Epoch 76/100\n",
      " - 2s - loss: 0.0077\n",
      "Epoch 77/100\n",
      " - 1s - loss: 0.0079\n",
      "Epoch 78/100\n",
      " - 2s - loss: 0.0081\n",
      "Epoch 79/100\n",
      " - 2s - loss: 0.0074\n",
      "Epoch 80/100\n",
      " - 2s - loss: 0.0090\n",
      "Epoch 81/100\n",
      " - 1s - loss: 0.0081\n",
      "Epoch 82/100\n",
      " - 2s - loss: 0.0085\n",
      "Epoch 83/100\n",
      " - 1s - loss: 0.0074\n",
      "Epoch 84/100\n",
      " - 1s - loss: 0.0071\n",
      "Epoch 85/100\n",
      " - 2s - loss: 0.0079\n",
      "Epoch 86/100\n",
      " - 2s - loss: 0.0069\n",
      "Epoch 87/100\n",
      " - 1s - loss: 0.0067\n",
      "Epoch 88/100\n",
      " - 2s - loss: 0.0062\n",
      "Epoch 89/100\n",
      " - 2s - loss: 0.0075\n",
      "Epoch 90/100\n",
      " - 2s - loss: 0.0078\n",
      "Epoch 91/100\n",
      " - 1s - loss: 0.0082\n",
      "Epoch 92/100\n",
      " - 1s - loss: 0.0073\n",
      "Epoch 93/100\n",
      " - 1s - loss: 0.0085\n",
      "Epoch 94/100\n",
      " - 1s - loss: 0.0068\n",
      "Epoch 95/100\n",
      " - 1s - loss: 0.0080\n",
      "Epoch 96/100\n",
      " - 2s - loss: 0.0072\n",
      "Epoch 97/100\n",
      " - 1s - loss: 0.0062\n",
      "Epoch 98/100\n",
      " - 1s - loss: 0.0065\n",
      "Epoch 99/100\n",
      " - 1s - loss: 0.0069\n",
      "Epoch 100/100\n",
      " - 1s - loss: 0.0064\n"
     ]
    }
   ],
   "source": [
    "# train the model \n",
    "history=model.fit(features_set, labels, epochs =100, batch_size = 32,verbose=2)\n"
   ]
  },
  {
   "cell_type": "code",
   "execution_count": 32,
   "metadata": {},
   "outputs": [
    {
     "data": {
      "text/plain": [
       "Text(0.5, 0, 'epochs')"
      ]
     },
     "execution_count": 32,
     "metadata": {},
     "output_type": "execute_result"
    },
    {
     "data": {
      "image/png": "[encoded data removed]",
      "text/plain": [
       "<Figure size 720x576 with 1 Axes>"
      ]
     },
     "metadata": {
      "needs_background": "light"
     },
     "output_type": "display_data"
    }
   ],
   "source": [
    "# Plot training loss vs validation loss \n",
    "plt.figure(figsize=(10,8))\n",
    "plt.plot(history.history['loss'])\n",
    "plt.legend(['Training'])\n",
    "plt.title('Loss')\n",
    "plt.xlabel('epochs')"
   ]
  },
  {
   "cell_type": "code",
   "execution_count": 33,
   "metadata": {},
   "outputs": [
    {
     "data": {
      "text/plain": [
       "array([[0.38837919],\n",
       "       [0.38654899],\n",
       "       [0.38677267],\n",
       "       [0.        ],\n",
       "       [0.07798462],\n",
       "       [0.03019563],\n",
       "       [0.055442  ],\n",
       "       [0.00574665],\n",
       "       [0.03351841],\n",
       "       [0.03520315],\n",
       "       [0.1605157 ],\n",
       "       [0.16151339],\n",
       "       [0.15970991],\n",
       "       [0.11304275],\n",
       "       [0.19012524],\n",
       "       [0.23201499],\n",
       "       [0.22494665],\n",
       "       [0.22959973],\n",
       "       [0.19715973],\n",
       "       [0.16722369],\n",
       "       [0.12511533],\n",
       "       [0.19190438],\n",
       "       [0.19306218],\n",
       "       [0.21517599],\n",
       "       [0.23975149],\n",
       "       [0.23182868],\n",
       "       [0.24947168],\n",
       "       [0.23942331],\n",
       "       [0.30264182],\n",
       "       [0.29009856],\n",
       "       [0.31083822],\n",
       "       [0.30662814],\n",
       "       [0.24920413],\n",
       "       [0.24836102],\n",
       "       [0.26309316],\n",
       "       [0.24651368],\n",
       "       [0.24617041],\n",
       "       [0.21982328],\n",
       "       [0.28225822],\n",
       "       [0.27954619],\n",
       "       [0.30078517],\n",
       "       [0.29180976],\n",
       "       [0.25136976],\n",
       "       [0.25115468],\n",
       "       [0.28231126],\n",
       "       [0.32341558],\n",
       "       [0.33935348],\n",
       "       [0.34185711],\n",
       "       [0.35631598],\n",
       "       [0.37153807],\n",
       "       [0.37304503],\n",
       "       [0.50377978],\n",
       "       [0.4850393 ],\n",
       "       [0.51216178],\n",
       "       [0.52844873],\n",
       "       [0.51646298],\n",
       "       [0.51846029],\n",
       "       [0.5303524 ],\n",
       "       [0.56529789],\n",
       "       [0.65509858],\n",
       "       [0.64078157],\n",
       "       [0.60806176],\n",
       "       [0.49791272],\n",
       "       [0.47757414],\n",
       "       [0.50423216],\n",
       "       [0.56545908],\n",
       "       [0.62645249],\n",
       "       [0.57311524],\n",
       "       [0.5795359 ],\n",
       "       [0.61816863],\n",
       "       [0.62551254],\n",
       "       [0.62583648],\n",
       "       [0.59873454],\n",
       "       [0.54070241],\n",
       "       [0.55396232],\n",
       "       [0.55747539],\n",
       "       [0.50237641],\n",
       "       [0.51770799],\n",
       "       [0.50825362],\n",
       "       [0.5537572 ],\n",
       "       [0.59909881],\n",
       "       [0.58770506],\n",
       "       [0.62207165],\n",
       "       [0.59059004],\n",
       "       [0.68347544],\n",
       "       [0.59963185],\n",
       "       [0.61632443],\n",
       "       [0.6352536 ],\n",
       "       [0.61748389],\n",
       "       [0.61592484],\n",
       "       [0.62975787],\n",
       "       [0.63141993],\n",
       "       [0.63460432],\n",
       "       [0.64438918],\n",
       "       [0.57227137],\n",
       "       [0.59319232],\n",
       "       [0.59246019],\n",
       "       [0.58082149],\n",
       "       [0.58922789],\n",
       "       [0.6007131 ],\n",
       "       [0.59311486],\n",
       "       [0.5841166 ],\n",
       "       [0.56783067],\n",
       "       [0.57366023],\n",
       "       [0.56988398],\n",
       "       [0.61527222],\n",
       "       [0.61276538],\n",
       "       [0.57119668],\n",
       "       [0.56477859],\n",
       "       [0.55137662],\n",
       "       [0.53591864],\n",
       "       [0.54883343],\n",
       "       [0.55505101],\n",
       "       [0.54809834],\n",
       "       [0.55997941],\n",
       "       [0.54618029],\n",
       "       [0.54143133],\n",
       "       [0.5473743 ],\n",
       "       [0.53967396],\n",
       "       [0.56521684]])"
      ]
     },
     "execution_count": 33,
     "metadata": {},
     "output_type": "execute_result"
    }
   ],
   "source": [
    "# Testing the model \n",
    "## prepare test data \n",
    "test_inputs = df[len(df) - len(test) - 60:].values\n",
    "## reshape\n",
    "test_inputs = test_inputs.reshape(-1,1)\n",
    "## then,scale\n",
    "test_inputs = scaler.transform(test_inputs)\n",
    "test_inputs"
   ]
  },
  {
   "cell_type": "code",
   "execution_count": 34,
   "metadata": {},
   "outputs": [
    {
     "data": {
      "text/plain": [
       "120"
      ]
     },
     "execution_count": 34,
     "metadata": {},
     "output_type": "execute_result"
    }
   ],
   "source": [
    "len(test_inputs)"
   ]
  },
  {
   "cell_type": "code",
   "execution_count": 37,
   "metadata": {},
   "outputs": [],
   "source": [
    "test_features = []\n",
    "for i in range(60, len(test_inputs)):\n",
    "    test_features.append(test_inputs[i-60:i, 0])\n",
    "#to array\n",
    "test_features = np.array(test_features)\n",
    "#reshape for LSTM\n",
    "test_features = np.reshape(test_features, (test_features.shape[0], test_features.shape[1], 1))"
   ]
  },
  {
   "cell_type": "code",
   "execution_count": 38,
   "metadata": {},
   "outputs": [],
   "source": [
    "# now, Let's predict \n",
    "predictions = model.predict(test_features)\n",
    "#inverse to original values \n",
    "predictions = scaler.inverse_transform(predictions)"
   ]
  },
  {
   "cell_type": "code",
   "execution_count": 39,
   "metadata": {},
   "outputs": [
    {
     "data": {
      "text/plain": [
       "array([[9154.756],\n",
       "       [9356.445],\n",
       "       [9515.211],\n",
       "       [9475.11 ],\n",
       "       [9263.04 ],\n",
       "       [9010.853],\n",
       "       [8861.948],\n",
       "       [8897.621],\n",
       "       [9012.068],\n",
       "       [9139.092],\n",
       "       [9277.954],\n",
       "       [9409.498],\n",
       "       [9510.563],\n",
       "       [9539.17 ],\n",
       "       [9443.491],\n",
       "       [9287.714],\n",
       "       [9135.547],\n",
       "       [8966.579],\n",
       "       [8823.352],\n",
       "       [8717.259],\n",
       "       [8698.47 ],\n",
       "       [8797.154],\n",
       "       [8953.034],\n",
       "       [9143.67 ],\n",
       "       [9285.955],\n",
       "       [9457.99 ],\n",
       "       [9544.66 ],\n",
       "       [9555.969],\n",
       "       [9540.358],\n",
       "       [9501.546],\n",
       "       [9453.78 ],\n",
       "       [9426.311],\n",
       "       [9424.602],\n",
       "       [9444.545],\n",
       "       [9485.099],\n",
       "       [9451.803],\n",
       "       [9379.717],\n",
       "       [9301.387],\n",
       "       [9226.901],\n",
       "       [9177.888],\n",
       "       [9169.646],\n",
       "       [9183.806],\n",
       "       [9195.713],\n",
       "       [9180.685],\n",
       "       [9151.195],\n",
       "       [9115.776],\n",
       "       [9132.342],\n",
       "       [9190.356],\n",
       "       [9218.232],\n",
       "       [9198.67 ],\n",
       "       [9133.723],\n",
       "       [9035.03 ],\n",
       "       [8946.614],\n",
       "       [8894.94 ],\n",
       "       [8873.863],\n",
       "       [8886.433],\n",
       "       [8904.976],\n",
       "       [8913.147],\n",
       "       [8915.797],\n",
       "       [8907.933]], dtype=float32)"
      ]
     },
     "execution_count": 39,
     "metadata": {},
     "output_type": "execute_result"
    }
   ],
   "source": [
    "predictions"
   ]
  },
  {
   "cell_type": "code",
   "execution_count": 40,
   "metadata": {},
   "outputs": [
    {
     "data": {
      "text/plain": [
       "60"
      ]
     },
     "execution_count": 40,
     "metadata": {},
     "output_type": "execute_result"
    }
   ],
   "source": [
    "len(predictions)"
   ]
  },
  {
   "cell_type": "code",
   "execution_count": 42,
   "metadata": {},
   "outputs": [
    {
     "name": "stdout",
     "output_type": "stream",
     "text": [
      "RMSE:  Close    390.399484\n",
      "dtype: float64\n"
     ]
    }
   ],
   "source": [
    "#get the root mean squared error \n",
    "rmse=np.sqrt(np.mean(np.power((test-predictions),2)))\n",
    "print(\"RMSE: \",rmse)"
   ]
  },
  {
   "cell_type": "code",
   "execution_count": 43,
   "metadata": {},
   "outputs": [
    {
     "data": {
      "text/plain": [
       "(307, 1)"
      ]
     },
     "execution_count": 43,
     "metadata": {},
     "output_type": "execute_result"
    }
   ],
   "source": [
    "train.shape"
   ]
  },
  {
   "cell_type": "code",
   "execution_count": 49,
   "metadata": {},
   "outputs": [
    {
     "name": "stderr",
     "output_type": "stream",
     "text": [
      "C:\\Users\\hp\\Anaconda\\anaconda3\\lib\\site-packages\\ipykernel_launcher.py:1: SettingWithCopyWarning: \n",
      "A value is trying to be set on a copy of a slice from a DataFrame.\n",
      "Try using .loc[row_indexer,col_indexer] = value instead\n",
      "\n",
      "See the caveats in the documentation: https://pandas.pydata.org/pandas-docs/stable/user_guide/indexing.html#returning-a-view-versus-a-copy\n",
      "  \"\"\"Entry point for launching an IPython kernel.\n"
     ]
    },
    {
     "data": {
      "image/png": "[encoded data removed]",
      "text/plain": [
       "<Figure size 720x576 with 1 Axes>"
      ]
     },
     "metadata": {
      "needs_background": "light"
     },
     "output_type": "display_data"
    }
   ],
   "source": [
    "test['Predictions'] = predictions\n",
    "#plot the predictions versus \n",
    "fig, ax = plt.subplots( nrows=1, ncols=1 ,figsize=(10,8))  # create figure & 1 axis\n",
    "ax.plot(train['Close'],label=' Real BTC close Price[For Training ]')\n",
    "ax.plot(test['Predictions'],label='Predicted BTC Price')\n",
    "ax.plot(test['Close'],label='Real BTC Price[Testing]')\n",
    "plt.title('BitCoin Price Prediction')\n",
    "plt.xlabel('Date')\n",
    "plt.ylabel('BTC Price in USD')\n",
    "plt.legend()\n",
    "plt.show()\n",
    "fig.savefig('btc_prediction.png')\n",
    "plt.close(fig) "
   ]
  },
  {
   "cell_type": "code",
   "execution_count": 51,
   "metadata": {},
   "outputs": [],
   "source": [
    "#END"
   ]
  },
  {
   "cell_type": "code",
   "execution_count": null,
   "metadata": {},
   "outputs": [],
   "source": []
  }
 ],
 "metadata": {
  "kernelspec": {
   "display_name": "Python 3",
   "language": "python",
   "name": "python3"
  },
  "language_info": {
   "codemirror_mode": {
    "name": "ipython",
    "version": 3
   },
   "file_extension": ".py",
   "mimetype": "text/x-python",
   "name": "python",
   "nbconvert_exporter": "python",
   "pygments_lexer": "ipython3",
   "version": "3.7.6"
  }
 },
 "nbformat": 4,
 "nbformat_minor": 4
}
